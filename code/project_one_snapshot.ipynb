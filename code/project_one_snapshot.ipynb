{
 "cells": [
  {
   "cell_type": "markdown",
   "metadata": {},
   "source": [
    "# What would today's Asian American population be if Japanese Americans were deported rather than interned in 1942?\n",
    "\n",
    "Colin Takeda and Nathan Weil\n",
    "ModSim Project 1\n"
   ]
  },
  {
   "cell_type": "code",
   "execution_count": null,
   "metadata": {},
   "outputs": [],
   "source": [
    "# Configure Jupyter so figures appear in the notebook\n",
    "%matplotlib inline\n",
    "\n",
    "# Configure Jupyter to display the assigned value after an assignment\n",
    "%config InteractiveShell.ast_node_interactivity='last_expr_or_assign'\n",
    "\n",
    "# import functions from the modsim library\n",
    "from modsim import *\n",
    "\n",
    "# import everything from SymPy.\n",
    "from sympy import *\n",
    "\n",
    "# Set up Jupyter notebook to display math.\n",
    "init_printing() \n",
    "\n",
    "from pandas import read_html\n",
    "\n",
    "import csv"
   ]
  },
  {
   "cell_type": "markdown",
   "metadata": {},
   "source": [
    "## Question"
   ]
  },
  {
   "cell_type": "markdown",
   "metadata": {},
   "source": [
    "What would today's Asian American population be if Japanese Americans were deported rather than interned in 1942?\n",
    "\n",
    "What would be today's percent population of Asian Americans be if all other races increased naturally as well?"
   ]
  },
  {
   "cell_type": "markdown",
   "metadata": {},
   "source": [
    "## Model"
   ]
  },
  {
   "cell_type": "markdown",
   "metadata": {},
   "source": [
    "Inputs: \n",
    "- Asian American population in 1942 - total number of Japanese Americans interned\n",
    "- Populations of other races in 1942\n",
    "\n",
    "Data: \n",
    "- Populations of other races over time\n",
    "\n",
    "Actions: \n",
    "- Simulate change in population over time per race and plot\n",
    "\n",
    "Metrics: \n",
    "- Growth over time of each subset of population \n",
    "- Percent change for Asian Americans over time"
   ]
  },
  {
   "cell_type": "code",
   "execution_count": null,
   "metadata": {},
   "outputs": [],
   "source": [
    "'''This section is for Data input\n",
    "the idea is to take a .csv file from excel and import the data that way\n",
    "'''\n",
    "\n",
    "with open('data/racedemographics.csv', newline='') as csvfile:\n",
    "    data = csv.reader(csvfile, delimiter=' ', quotechar='|')\n",
    "    for row in data:\n",
    "        print(', '.join(row))\n",
    "\n",
    "data_time = [1940, 1950, 1960, 1970, 1980, 1990, 2000, 2010]\n",
    "\n",
    "# Population Data\n",
    "api = [254918, 321033, 980337, 1526401, 3500439, 7273662, 10641833, 15214265]\n",
    "wh = []\n",
    "bl = []\n",
    "aiea = []\n",
    "his = []\n",
    "nhw = []"
   ]
  },
  {
   "cell_type": "code",
   "execution_count": null,
   "metadata": {},
   "outputs": [],
   "source": [
    "def plot_results(api, data_time, title):\n",
    "\n",
    "    plot(api, data_time)\n",
    "    \n",
    "    decorate(xlabel='Year', \n",
    "             ylabel='Population',\n",
    "             title=title)"
   ]
  },
  {
   "cell_type": "code",
   "execution_count": null,
   "metadata": {},
   "outputs": [],
   "source": [
    "'''Data imported and made into var to pass to plot'''\n",
    "empty = TimeSeries()\n",
    "plot_results(api, data_time, 'World population estimates')"
   ]
  },
  {
   "cell_type": "markdown",
   "metadata": {},
   "source": [
    "## Results"
   ]
  },
  {
   "cell_type": "markdown",
   "metadata": {},
   "source": [
    "We expect a much smaller Asian American percentage of the population over time if the interned Japanese Americans had ben deported. This data can be verified by projecting it to the 2010 census data. "
   ]
  },
  {
   "cell_type": "markdown",
   "metadata": {},
   "source": [
    "## Interpretation "
   ]
  },
  {
   "cell_type": "markdown",
   "metadata": {},
   "source": [
    "plot(results)"
   ]
  }
 ],
 "metadata": {
  "kernelspec": {
   "display_name": "Python 3",
   "language": "python",
   "name": "python3"
  },
  "language_info": {
   "codemirror_mode": {
    "name": "ipython",
    "version": 3
   },
   "file_extension": ".py",
   "mimetype": "text/x-python",
   "name": "python",
   "nbconvert_exporter": "python",
   "pygments_lexer": "ipython3",
   "version": "3.6.6"
  }
 },
 "nbformat": 4,
 "nbformat_minor": 2
}
