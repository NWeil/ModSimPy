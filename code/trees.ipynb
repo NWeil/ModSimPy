{
 "cells": [
  {
   "cell_type": "markdown",
   "metadata": {},
   "source": [
    "# Modeling and Simulation in Python\n",
    "\n",
    "Copyright 2018 Allen Downey\n",
    "\n",
    "License: [Creative Commons Attribution 4.0 International](https://creativecommons.org/licenses/by/4.0)"
   ]
  },
  {
   "cell_type": "code",
   "execution_count": 1,
   "metadata": {},
   "outputs": [],
   "source": [
    "# Configure Jupyter so figures appear in the notebook\n",
    "%matplotlib inline\n",
    "\n",
    "# Configure Jupyter to display the assigned value after an assignment\n",
    "%config InteractiveShell.ast_node_interactivity='last_expr_or_assign'\n",
    "\n",
    "# import functions from the modsim.py module\n",
    "from modsim import *"
   ]
  },
  {
   "cell_type": "markdown",
   "metadata": {},
   "source": [
    "### Modeling tree growth\n",
    "\n",
    "This case study is based on \"[Height-Age Curves for Planted Stands of Douglas Fir, with Adjustments for Density](http://www.cfr.washington.edu/research.smc/working_papers/smc_working_paper_1.pdf)\", a working paper by Flewelling, Collier, Gonyea, Marshall, and Turnblom.\n",
    "\n",
    "It provides \"site index curves\", which are curves that show the expected height of the tallest tree in a stand of Douglas firs as a function of age, for a stand where the trees are the same age.\n",
    "\n",
    "Depending on the quality of the site, the trees might grow more quickly or slowing.  So each curve is identified by a \"site index\" that indicates the quality of the site.\n",
    "\n",
    "I'll start with some of the data from their Table 1.  Here's the sequence of ages."
   ]
  },
  {
   "cell_type": "code",
   "execution_count": 2,
   "metadata": {},
   "outputs": [
    {
     "data": {
      "text/plain": [
       "[2, 3, 4, 5, 6, 8, 10, 15, 20, 25, 30, 35, 40, 45, 50, 55, 60, 65, 70]"
      ]
     },
     "execution_count": 2,
     "metadata": {},
     "output_type": "execute_result"
    }
   ],
   "source": [
    "years = [2, 3, 4, 5, 6, 8, 10, 15, 20, 25, 30,\n",
    "         35, 40, 45, 50, 55, 60, 65, 70]"
   ]
  },
  {
   "cell_type": "markdown",
   "metadata": {},
   "source": [
    "And here's the series of heights for a site with index 45, indicating that height at 30 years is 45 feet."
   ]
  },
  {
   "cell_type": "code",
   "execution_count": 3,
   "metadata": {},
   "outputs": [
    {
     "data": {
      "text/html": [
       "<div>\n",
       "<style scoped>\n",
       "    .dataframe tbody tr th:only-of-type {\n",
       "        vertical-align: middle;\n",
       "    }\n",
       "\n",
       "    .dataframe tbody tr th {\n",
       "        vertical-align: top;\n",
       "    }\n",
       "\n",
       "    .dataframe thead th {\n",
       "        text-align: right;\n",
       "    }\n",
       "</style>\n",
       "<table border=\"1\" class=\"dataframe\">\n",
       "  <thead>\n",
       "    <tr style=\"text-align: right;\">\n",
       "      <th></th>\n",
       "      <th>values</th>\n",
       "    </tr>\n",
       "  </thead>\n",
       "  <tbody>\n",
       "    <tr>\n",
       "      <th>2</th>\n",
       "      <td>1.40</td>\n",
       "    </tr>\n",
       "    <tr>\n",
       "      <th>3</th>\n",
       "      <td>1.49</td>\n",
       "    </tr>\n",
       "    <tr>\n",
       "      <th>4</th>\n",
       "      <td>1.75</td>\n",
       "    </tr>\n",
       "    <tr>\n",
       "      <th>5</th>\n",
       "      <td>2.18</td>\n",
       "    </tr>\n",
       "    <tr>\n",
       "      <th>6</th>\n",
       "      <td>2.78</td>\n",
       "    </tr>\n",
       "    <tr>\n",
       "      <th>8</th>\n",
       "      <td>4.45</td>\n",
       "    </tr>\n",
       "    <tr>\n",
       "      <th>10</th>\n",
       "      <td>6.74</td>\n",
       "    </tr>\n",
       "    <tr>\n",
       "      <th>15</th>\n",
       "      <td>14.86</td>\n",
       "    </tr>\n",
       "    <tr>\n",
       "      <th>20</th>\n",
       "      <td>25.39</td>\n",
       "    </tr>\n",
       "    <tr>\n",
       "      <th>25</th>\n",
       "      <td>35.60</td>\n",
       "    </tr>\n",
       "    <tr>\n",
       "      <th>30</th>\n",
       "      <td>45.00</td>\n",
       "    </tr>\n",
       "    <tr>\n",
       "      <th>35</th>\n",
       "      <td>53.65</td>\n",
       "    </tr>\n",
       "    <tr>\n",
       "      <th>40</th>\n",
       "      <td>61.60</td>\n",
       "    </tr>\n",
       "    <tr>\n",
       "      <th>45</th>\n",
       "      <td>68.92</td>\n",
       "    </tr>\n",
       "    <tr>\n",
       "      <th>50</th>\n",
       "      <td>75.66</td>\n",
       "    </tr>\n",
       "    <tr>\n",
       "      <th>55</th>\n",
       "      <td>81.85</td>\n",
       "    </tr>\n",
       "    <tr>\n",
       "      <th>60</th>\n",
       "      <td>87.56</td>\n",
       "    </tr>\n",
       "    <tr>\n",
       "      <th>65</th>\n",
       "      <td>92.80</td>\n",
       "    </tr>\n",
       "    <tr>\n",
       "      <th>70</th>\n",
       "      <td>97.63</td>\n",
       "    </tr>\n",
       "  </tbody>\n",
       "</table>\n",
       "</div>"
      ],
      "text/plain": [
       "2      1.40\n",
       "3      1.49\n",
       "4      1.75\n",
       "5      2.18\n",
       "6      2.78\n",
       "8      4.45\n",
       "10     6.74\n",
       "15    14.86\n",
       "20    25.39\n",
       "25    35.60\n",
       "30    45.00\n",
       "35    53.65\n",
       "40    61.60\n",
       "45    68.92\n",
       "50    75.66\n",
       "55    81.85\n",
       "60    87.56\n",
       "65    92.80\n",
       "70    97.63\n",
       "dtype: float64"
      ]
     },
     "execution_count": 3,
     "metadata": {},
     "output_type": "execute_result"
    }
   ],
   "source": [
    "site45 = TimeSeries([1.4, 1.49, 1.75, 2.18, 2.78, 4.45, 6.74,\n",
    "                    14.86, 25.39, 35.60, 45.00, 53.65, 61.60,\n",
    "                    68.92, 75.66, 81.85, 87.56, 92.8, 97.63],\n",
    "                    index=years)"
   ]
  },
  {
   "cell_type": "markdown",
   "metadata": {},
   "source": [
    "Here's the series for site index 65."
   ]
  },
  {
   "cell_type": "code",
   "execution_count": 4,
   "metadata": {},
   "outputs": [
    {
     "data": {
      "text/html": [
       "<div>\n",
       "<style scoped>\n",
       "    .dataframe tbody tr th:only-of-type {\n",
       "        vertical-align: middle;\n",
       "    }\n",
       "\n",
       "    .dataframe tbody tr th {\n",
       "        vertical-align: top;\n",
       "    }\n",
       "\n",
       "    .dataframe thead th {\n",
       "        text-align: right;\n",
       "    }\n",
       "</style>\n",
       "<table border=\"1\" class=\"dataframe\">\n",
       "  <thead>\n",
       "    <tr style=\"text-align: right;\">\n",
       "      <th></th>\n",
       "      <th>values</th>\n",
       "    </tr>\n",
       "  </thead>\n",
       "  <tbody>\n",
       "    <tr>\n",
       "      <th>2</th>\n",
       "      <td>1.40</td>\n",
       "    </tr>\n",
       "    <tr>\n",
       "      <th>3</th>\n",
       "      <td>1.56</td>\n",
       "    </tr>\n",
       "    <tr>\n",
       "      <th>4</th>\n",
       "      <td>2.01</td>\n",
       "    </tr>\n",
       "    <tr>\n",
       "      <th>5</th>\n",
       "      <td>2.76</td>\n",
       "    </tr>\n",
       "    <tr>\n",
       "      <th>6</th>\n",
       "      <td>3.79</td>\n",
       "    </tr>\n",
       "    <tr>\n",
       "      <th>8</th>\n",
       "      <td>6.64</td>\n",
       "    </tr>\n",
       "    <tr>\n",
       "      <th>10</th>\n",
       "      <td>10.44</td>\n",
       "    </tr>\n",
       "    <tr>\n",
       "      <th>15</th>\n",
       "      <td>23.26</td>\n",
       "    </tr>\n",
       "    <tr>\n",
       "      <th>20</th>\n",
       "      <td>37.65</td>\n",
       "    </tr>\n",
       "    <tr>\n",
       "      <th>25</th>\n",
       "      <td>51.66</td>\n",
       "    </tr>\n",
       "    <tr>\n",
       "      <th>30</th>\n",
       "      <td>65.00</td>\n",
       "    </tr>\n",
       "    <tr>\n",
       "      <th>35</th>\n",
       "      <td>77.50</td>\n",
       "    </tr>\n",
       "    <tr>\n",
       "      <th>40</th>\n",
       "      <td>89.07</td>\n",
       "    </tr>\n",
       "    <tr>\n",
       "      <th>45</th>\n",
       "      <td>99.66</td>\n",
       "    </tr>\n",
       "    <tr>\n",
       "      <th>50</th>\n",
       "      <td>109.28</td>\n",
       "    </tr>\n",
       "    <tr>\n",
       "      <th>55</th>\n",
       "      <td>117.96</td>\n",
       "    </tr>\n",
       "    <tr>\n",
       "      <th>60</th>\n",
       "      <td>125.74</td>\n",
       "    </tr>\n",
       "    <tr>\n",
       "      <th>65</th>\n",
       "      <td>132.68</td>\n",
       "    </tr>\n",
       "    <tr>\n",
       "      <th>70</th>\n",
       "      <td>138.84</td>\n",
       "    </tr>\n",
       "  </tbody>\n",
       "</table>\n",
       "</div>"
      ],
      "text/plain": [
       "2       1.40\n",
       "3       1.56\n",
       "4       2.01\n",
       "5       2.76\n",
       "6       3.79\n",
       "8       6.64\n",
       "10     10.44\n",
       "15     23.26\n",
       "20     37.65\n",
       "25     51.66\n",
       "30     65.00\n",
       "35     77.50\n",
       "40     89.07\n",
       "45     99.66\n",
       "50    109.28\n",
       "55    117.96\n",
       "60    125.74\n",
       "65    132.68\n",
       "70    138.84\n",
       "dtype: float64"
      ]
     },
     "execution_count": 4,
     "metadata": {},
     "output_type": "execute_result"
    }
   ],
   "source": [
    "site65 = TimeSeries([1.4, 1.56, 2.01, 2.76, 3.79, 6.64, 10.44, \n",
    "                    23.26, 37.65, 51.66, 65.00, 77.50, 89.07, \n",
    "                    99.66, 109.28, 117.96, 125.74, 132.68, 138.84],\n",
    "                    index=years)"
   ]
  },
  {
   "cell_type": "markdown",
   "metadata": {},
   "source": [
    "And for site index 85."
   ]
  },
  {
   "cell_type": "code",
   "execution_count": 5,
   "metadata": {},
   "outputs": [
    {
     "data": {
      "text/plain": [
       "2       1.40\n",
       "3       1.80\n",
       "4       2.71\n",
       "5       4.09\n",
       "6       5.92\n",
       "8      10.73\n",
       "10     16.81\n",
       "15     34.03\n",
       "20     51.26\n",
       "25     68.54\n",
       "30     85.00\n",
       "35    100.34\n",
       "40    114.33\n",
       "45    126.91\n",
       "50    138.06\n",
       "55    147.86\n",
       "60    156.39\n",
       "65    163.76\n",
       "70    170.10\n",
       "dtype: float64"
      ]
     },
     "execution_count": 5,
     "metadata": {},
     "output_type": "execute_result"
    }
   ],
   "source": [
    "site85 = Series([1.4, 1.8, 2.71, 4.09, 5.92, 10.73, 16.81, \n",
    "                 34.03, 51.26, 68.54, 85, 100.34, 114.33,\n",
    "                 126.91, 138.06, 147.86, 156.39, 163.76, 170.10],\n",
    "               index=years)"
   ]
  },
  {
   "cell_type": "markdown",
   "metadata": {},
   "source": [
    "Here's what the curves look like:"
   ]
  },
  {
   "cell_type": "code",
   "execution_count": 6,
   "metadata": {},
   "outputs": [
    {
     "name": "stdout",
     "output_type": "stream",
     "text": [
      "Saving figure to file figs/trees-fig01.pdf\n"
     ]
    },
    {
     "data": {
      "image/png": "[encoded data removed]",
      "text/plain": [
       "<Figure size 432x288 with 1 Axes>"
      ]
     },
     "metadata": {
      "needs_background": "light"
     },
     "output_type": "display_data"
    }
   ],
   "source": [
    "plot(site85, label='SI 85')\n",
    "plot(site65, label='SI 65')\n",
    "plot(site45, label='SI 45')\n",
    "decorate(xlabel='Time (years)',\n",
    "         ylabel='Height (feet)')\n",
    "\n",
    "savefig('figs/trees-fig01.pdf')"
   ]
  },
  {
   "cell_type": "markdown",
   "metadata": {},
   "source": [
    "For my examples I'll work with the SI 65 data; as an exercise, you can run the notebook again with either of the other curves."
   ]
  },
  {
   "cell_type": "code",
   "execution_count": 7,
   "metadata": {},
   "outputs": [],
   "source": [
    "data = site65;"
   ]
  },
  {
   "cell_type": "markdown",
   "metadata": {},
   "source": [
    "### Model 1\n",
    "\n",
    "As a starting place, let's assume that the ability of the tree to gain mass is limited by the area it exposes to sunlight, and that the growth rate (in mass) is proportional to that area.  In that case we can write:\n",
    "\n",
    "$ m_{n+1} = m_n + \\alpha A$\n",
    "\n",
    "where $m_n$ is the mass of the at time step $n$, $A$ is the area exposed to sunlight, and $\\alpha$ is an unknown growth parameter.\n",
    "\n",
    "To get from $m$ to $A$, I'll make the additional assumption that mass is proportional to height raised to an unknown power:\n",
    "\n",
    "$ m = \\beta h^D $\n",
    "\n",
    "where $h$ is height, $\\beta$ is an unknown constant of proportionality, and $D$ is the dimension that relates height and mass.  \n",
    "\n",
    "We'll start by assuming $D=3$, but we'll revisit that assumption.\n",
    "\n",
    "Finally, we'll assume that area is proportional to height squared:\n",
    "\n",
    "$ A = \\gamma h^2$\n",
    "\n",
    "I'll specify height in feet, and choose units for mass and area so that $\\beta=1$ and $\\gamma=1$.\n",
    "\n",
    "Putting all that together, we can write a difference equation for height:\n",
    "\n",
    "$ h_{n+1}^D = h_n^D + \\alpha h_n^2 $\n",
    "\n",
    "Now let's solve it.  Here's a system object with the parameters and initial conditions."
   ]
  },
  {
   "cell_type": "code",
   "execution_count": 8,
   "metadata": {},
   "outputs": [
    {
     "data": {
      "text/html": [
       "<div>\n",
       "<style scoped>\n",
       "    .dataframe tbody tr th:only-of-type {\n",
       "        vertical-align: middle;\n",
       "    }\n",
       "\n",
       "    .dataframe tbody tr th {\n",
       "        vertical-align: top;\n",
       "    }\n",
       "\n",
       "    .dataframe thead th {\n",
       "        text-align: right;\n",
       "    }\n",
       "</style>\n",
       "<table border=\"1\" class=\"dataframe\">\n",
       "  <thead>\n",
       "    <tr style=\"text-align: right;\">\n",
       "      <th></th>\n",
       "      <th>values</th>\n",
       "    </tr>\n",
       "  </thead>\n",
       "  <tbody>\n",
       "    <tr>\n",
       "      <th>alpha</th>\n",
       "      <td>7.0</td>\n",
       "    </tr>\n",
       "    <tr>\n",
       "      <th>dim</th>\n",
       "      <td>3.0</td>\n",
       "    </tr>\n",
       "    <tr>\n",
       "      <th>h_0</th>\n",
       "      <td>1.4</td>\n",
       "    </tr>\n",
       "    <tr>\n",
       "      <th>t_0</th>\n",
       "      <td>2.0</td>\n",
       "    </tr>\n",
       "    <tr>\n",
       "      <th>t_end</th>\n",
       "      <td>70.0</td>\n",
       "    </tr>\n",
       "  </tbody>\n",
       "</table>\n",
       "</div>"
      ],
      "text/plain": [
       "alpha     7.0\n",
       "dim       3.0\n",
       "h_0       1.4\n",
       "t_0       2.0\n",
       "t_end    70.0\n",
       "dtype: float64"
      ]
     },
     "execution_count": 8,
     "metadata": {},
     "output_type": "execute_result"
    }
   ],
   "source": [
    "alpha = 7\n",
    "dim = 3\n",
    "\n",
    "t_0 = get_first_label(data)\n",
    "t_end = get_last_label(data)\n",
    "\n",
    "h_0 = get_first_value(data)\n",
    "\n",
    "system = System(alpha=alpha, dim=dim, \n",
    "                h_0=h_0, t_0=t_0, t_end=t_end)"
   ]
  },
  {
   "cell_type": "markdown",
   "metadata": {},
   "source": [
    "And here's an update function that takes the current height as a parameter and returns the height during the next time step."
   ]
  },
  {
   "cell_type": "code",
   "execution_count": 9,
   "metadata": {},
   "outputs": [],
   "source": [
    "def update(height, t, system):\n",
    "    \"\"\"Update height based on geometric model.\n",
    "    \n",
    "    height: current height in feet\n",
    "    t: what year it is\n",
    "    system: system object with model parameters\n",
    "    \"\"\"\n",
    "    area = height**2\n",
    "    mass = height**system.dim\n",
    "    mass += system.alpha * area\n",
    "    return mass**(1/system.dim)"
   ]
  },
  {
   "cell_type": "markdown",
   "metadata": {},
   "source": [
    "Test the update function with the initial conditions."
   ]
  },
  {
   "cell_type": "code",
   "execution_count": 10,
   "metadata": {},
   "outputs": [
    {
     "data": {
      "text/plain": [
       "2.5439688299649954"
      ]
     },
     "execution_count": 10,
     "metadata": {},
     "output_type": "execute_result"
    }
   ],
   "source": [
    "update(h_0, t_0, system)"
   ]
  },
  {
   "cell_type": "markdown",
   "metadata": {},
   "source": [
    "Here's our usual version of `run_simulation`."
   ]
  },
  {
   "cell_type": "code",
   "execution_count": 11,
   "metadata": {},
   "outputs": [],
   "source": [
    "def run_simulation(system, update_func):\n",
    "    \"\"\"Simulate the system using any update function.\n",
    "    \n",
    "    system: System object\n",
    "    update_func: function that computes the population next year\n",
    "    \n",
    "    returns: TimeSeries\n",
    "    \"\"\"\n",
    "    results = TimeSeries()\n",
    "    results[system.t_0] = system.h_0\n",
    "    \n",
    "    for t in linrange(system.t_0, system.t_end):\n",
    "        results[t+1] = update_func(results[t], t, system)\n",
    "        \n",
    "    return results"
   ]
  },
  {
   "cell_type": "markdown",
   "metadata": {},
   "source": [
    "And here's how we run it."
   ]
  },
  {
   "cell_type": "code",
   "execution_count": 12,
   "metadata": {},
   "outputs": [
    {
     "data": {
      "text/plain": [
       "66    140.497321\n",
       "67    142.792941\n",
       "68    145.089152\n",
       "69    147.385935\n",
       "70    149.683273\n",
       "dtype: float64"
      ]
     },
     "execution_count": 12,
     "metadata": {},
     "output_type": "execute_result"
    }
   ],
   "source": [
    "results = run_simulation(system, update)\n",
    "results.tail()"
   ]
  },
  {
   "cell_type": "markdown",
   "metadata": {},
   "source": [
    "Plot the results:"
   ]
  },
  {
   "cell_type": "code",
   "execution_count": 13,
   "metadata": {},
   "outputs": [
    {
     "data": {
      "image/png": "[encoded data removed]",
      "text/plain": [
       "<Figure size 432x288 with 1 Axes>"
      ]
     },
     "metadata": {
      "needs_background": "light"
     },
     "output_type": "display_data"
    }
   ],
   "source": [
    "def plot_results(results, data):\n",
    "    plot(results, ':', label='model', color='gray')\n",
    "    plot(data, label='data')\n",
    "    decorate(xlabel='Time (years)',\n",
    "             ylabel='Height (feet)')\n",
    "    \n",
    "plot_results(results, data)"
   ]
  },
  {
   "cell_type": "markdown",
   "metadata": {},
   "source": [
    "The result converges to a straight line.\n",
    "\n",
    "I chose the value of `alpha` to fit the data as well as I could, but it is clear that the data have curvature that's not captured by the model.\n",
    "\n",
    "Here are the errors:"
   ]
  },
  {
   "cell_type": "code",
   "execution_count": 14,
   "metadata": {},
   "outputs": [
    {
     "data": {
      "text/plain": [
       "2      0.000000\n",
       "3      0.983969\n",
       "4      1.942915\n",
       "5      2.792070\n",
       "6      3.496882\n",
       "8      4.387116\n",
       "10     4.557437\n",
       "15     2.194275\n",
       "20    -1.346851\n",
       "25    -4.304519\n",
       "30    -6.468590\n",
       "35    -7.709926\n",
       "40    -7.962119\n",
       "45    -7.189989\n",
       "50    -5.413433\n",
       "55    -2.669382\n",
       "60     0.997125\n",
       "65     5.522310\n",
       "70    10.843273\n",
       "dtype: float64"
      ]
     },
     "execution_count": 14,
     "metadata": {},
     "output_type": "execute_result"
    }
   ],
   "source": [
    "errors = results - data\n",
    "errors.dropna()"
   ]
  },
  {
   "cell_type": "markdown",
   "metadata": {},
   "source": [
    "And here's the mean absolute error."
   ]
  },
  {
   "cell_type": "code",
   "execution_count": 15,
   "metadata": {},
   "outputs": [
    {
     "data": {
      "text/plain": [
       "4.251693738559428"
      ]
     },
     "execution_count": 15,
     "metadata": {},
     "output_type": "execute_result"
    }
   ],
   "source": [
    "def mean_abs_error(results, data):\n",
    "    return np.mean(np.abs(results-data))\n",
    "\n",
    "mean_abs_error(results, data)"
   ]
  },
  {
   "cell_type": "markdown",
   "metadata": {},
   "source": [
    "This model might explain why the height of a tree grows roughly linearly:\n",
    "\n",
    "1. If area is proportional to $h^2$ and mass is proportional to $h^3$, and\n",
    "\n",
    "2. Change in mass is proportional to area, and\n",
    "\n",
    "3. Height grows linearly, then\n",
    "\n",
    "4. Area grows in proportion to $h^2$, and\n",
    "\n",
    "5. Mass grows in proportion to $h^3$.\n",
    "\n",
    "If the goal is to explain (approximate) linear growth, we might stop there.  But this model does not fit the data particularly well, and it implies that trees could keep growing forever.\n",
    "\n",
    "So we might want to do better."
   ]
  },
  {
   "cell_type": "markdown",
   "metadata": {},
   "source": [
    "### Model 2"
   ]
  },
  {
   "cell_type": "markdown",
   "metadata": {},
   "source": [
    "As a second attempt, let's suppose that we don't know $D$.  In fact, we don't, because trees are not like simple solids; they are more like fractals, which have [fractal dimension](https://en.wikipedia.org/wiki/Fractal_dimension).\n",
    "\n",
    "I would expect the fractal dimension of a tree to be between 2 and 3, so I'll guess 2.5."
   ]
  },
  {
   "cell_type": "code",
   "execution_count": 16,
   "metadata": {},
   "outputs": [
    {
     "data": {
      "text/plain": [
       "(7, 2.8)"
      ]
     },
     "execution_count": 16,
     "metadata": {},
     "output_type": "execute_result"
    }
   ],
   "source": [
    "alpha = 7\n",
    "dim = 2.8\n",
    "\n",
    "params = alpha, dim"
   ]
  },
  {
   "cell_type": "markdown",
   "metadata": {},
   "source": [
    "I'll wrap the code from the previous section is a function that takes the parameters as inputs and makes a `System` object."
   ]
  },
  {
   "cell_type": "code",
   "execution_count": 17,
   "metadata": {},
   "outputs": [],
   "source": [
    "def make_system(params, data):\n",
    "    \"\"\"Makes a System object.\n",
    "    \n",
    "    params: sequence of alpha, dim\n",
    "    data: Series\n",
    "    \n",
    "    returns: System object\n",
    "    \"\"\"\n",
    "    alpha, dim = params\n",
    "    \n",
    "    t_0 = get_first_label(data)\n",
    "    t_end = get_last_label(data)\n",
    "\n",
    "    h_0 = get_first_value(data)\n",
    "\n",
    "    return System(alpha=alpha, dim=dim, \n",
    "                  h_0=h_0, t_0=t_0, t_end=t_end)"
   ]
  },
  {
   "cell_type": "markdown",
   "metadata": {},
   "source": [
    "Here's how we use it."
   ]
  },
  {
   "cell_type": "code",
   "execution_count": 18,
   "metadata": {},
   "outputs": [
    {
     "data": {
      "text/html": [
       "<div>\n",
       "<style scoped>\n",
       "    .dataframe tbody tr th:only-of-type {\n",
       "        vertical-align: middle;\n",
       "    }\n",
       "\n",
       "    .dataframe tbody tr th {\n",
       "        vertical-align: top;\n",
       "    }\n",
       "\n",
       "    .dataframe thead th {\n",
       "        text-align: right;\n",
       "    }\n",
       "</style>\n",
       "<table border=\"1\" class=\"dataframe\">\n",
       "  <thead>\n",
       "    <tr style=\"text-align: right;\">\n",
       "      <th></th>\n",
       "      <th>values</th>\n",
       "    </tr>\n",
       "  </thead>\n",
       "  <tbody>\n",
       "    <tr>\n",
       "      <th>alpha</th>\n",
       "      <td>7.0</td>\n",
       "    </tr>\n",
       "    <tr>\n",
       "      <th>dim</th>\n",
       "      <td>2.8</td>\n",
       "    </tr>\n",
       "    <tr>\n",
       "      <th>h_0</th>\n",
       "      <td>1.4</td>\n",
       "    </tr>\n",
       "    <tr>\n",
       "      <th>t_0</th>\n",
       "      <td>2.0</td>\n",
       "    </tr>\n",
       "    <tr>\n",
       "      <th>t_end</th>\n",
       "      <td>70.0</td>\n",
       "    </tr>\n",
       "  </tbody>\n",
       "</table>\n",
       "</div>"
      ],
      "text/plain": [
       "alpha     7.0\n",
       "dim       2.8\n",
       "h_0       1.4\n",
       "t_0       2.0\n",
       "t_end    70.0\n",
       "dtype: float64"
      ]
     },
     "execution_count": 18,
     "metadata": {},
     "output_type": "execute_result"
    }
   ],
   "source": [
    "system = make_system(params, data)"
   ]
  },
  {
   "cell_type": "markdown",
   "metadata": {},
   "source": [
    "With different values for the parameters, we get curves with different behavior.  Here are a few that I chose by hand."
   ]
  },
  {
   "cell_type": "code",
   "execution_count": 19,
   "metadata": {},
   "outputs": [],
   "source": [
    "def run_and_plot(alpha, dim, data):\n",
    "    params = alpha, dim\n",
    "    system = make_system(params, data)\n",
    "    results = run_simulation(system, update)\n",
    "    plot(results, ':', color='gray')"
   ]
  },
  {
   "cell_type": "code",
   "execution_count": 20,
   "metadata": {},
   "outputs": [
    {
     "data": {
      "image/png": "[encoded data removed]",
      "text/plain": [
       "<Figure size 432x288 with 1 Axes>"
      ]
     },
     "metadata": {
      "needs_background": "light"
     },
     "output_type": "display_data"
    }
   ],
   "source": [
    "run_and_plot(0.145, 2, data)\n",
    "run_and_plot(0.58, 2.4, data)\n",
    "run_and_plot(2.8, 2.8, data)\n",
    "run_and_plot(6.6, 3, data)\n",
    "run_and_plot(15.5, 3.2, data)\n",
    "run_and_plot(38, 3.4, data)\n",
    "\n",
    "plot(data, label='data')\n",
    "decorate(xlabel='Time (years)',\n",
    "             ylabel='Height (feet)')"
   ]
  },
  {
   "cell_type": "markdown",
   "metadata": {},
   "source": [
    "To find the parameters that best fit the data, I'll use `fit_leastsq`.\n",
    "\n",
    "We need an error function that takes parameters and returns errors:"
   ]
  },
  {
   "cell_type": "code",
   "execution_count": 21,
   "metadata": {},
   "outputs": [],
   "source": [
    "def error_func(params, data, update_func):\n",
    "    \"\"\"Runs the model and returns errors.\n",
    "    \n",
    "    params: sequence of alpha, dim\n",
    "    data: Series\n",
    "    update_func: function object\n",
    "    \n",
    "    returns: Series of errors\n",
    "    \"\"\"\n",
    "    print(params)\n",
    "    system = make_system(params, data)\n",
    "    results = run_simulation(system, update_func)\n",
    "    return (results - data).dropna()"
   ]
  },
  {
   "cell_type": "markdown",
   "metadata": {},
   "source": [
    "Here's how we use it:"
   ]
  },
  {
   "cell_type": "code",
   "execution_count": 22,
   "metadata": {},
   "outputs": [],
   "source": [
    "errors = error_func(params, data, update)"
   ]
  },
  {
   "cell_type": "markdown",
   "metadata": {},
   "source": [
    "Now we can pass `error_func` to `fit_leastsq`, which finds the parameters that minimize the squares of the errors."
   ]
  },
  {
   "cell_type": "code",
   "execution_count": 23,
   "metadata": {},
   "outputs": [],
   "source": [
    "best_params, details = fit_leastsq(error_func, params, data, update)\n",
    "details"
   ]
  },
  {
   "cell_type": "markdown",
   "metadata": {},
   "source": [
    "Using the best parameters we found, we can run the model and plot the results."
   ]
  },
  {
   "cell_type": "code",
   "execution_count": 24,
   "metadata": {},
   "outputs": [],
   "source": [
    "system = make_system(best_params, data)\n",
    "results = run_simulation(system, update)\n",
    "\n",
    "plot_results(results, data)"
   ]
  },
  {
   "cell_type": "markdown",
   "metadata": {},
   "source": [
    "The mean absolute error is better than for Model 1, but that doesn't mean much.  The model still doesn't fit the data well."
   ]
  },
  {
   "cell_type": "code",
   "execution_count": 25,
   "metadata": {},
   "outputs": [],
   "source": [
    "mean_abs_error(results, data)"
   ]
  },
  {
   "cell_type": "markdown",
   "metadata": {},
   "source": [
    "And the estimated fractal dimension is 3.11, which doesn't seem likely.\n",
    "\n",
    "Let's try one more thing."
   ]
  },
  {
   "cell_type": "markdown",
   "metadata": {},
   "source": [
    "### Model 3"
   ]
  },
  {
   "cell_type": "markdown",
   "metadata": {},
   "source": [
    "Models 1 and 2 imply that trees can grow forever, but we know that's not true.  As trees get taller, it gets harder for them to move water and nutrients against the force of gravity, and their growth slows.\n",
    "\n",
    "We can model this effect by adding a term to the model similar to what we saw in the logistic model of population growth.  Instead of assuming:\n",
    "\n",
    "$ m_{n+1} = m_n + \\alpha A $ \n",
    "\n",
    "Let's assume\n",
    "\n",
    "$ m_{n+1} = m_n + \\alpha A (1 - h / K) $\n",
    "\n",
    "where $K$ is similar to the carrying capacity of the logistic model.  As $h$ approaches $K$, the factor $(1 - h/K)$ goes to 0, causing growth to level off.\n",
    "\n",
    "Here's what the implementation of this model looks like:"
   ]
  },
  {
   "cell_type": "code",
   "execution_count": 26,
   "metadata": {},
   "outputs": [],
   "source": [
    "alpha = 2.0\n",
    "dim = 2.5\n",
    "K = 150\n",
    "\n",
    "params = [alpha, dim, K]"
   ]
  },
  {
   "cell_type": "markdown",
   "metadata": {},
   "source": [
    "Here's an updated version of `make_system`"
   ]
  },
  {
   "cell_type": "code",
   "execution_count": 27,
   "metadata": {},
   "outputs": [],
   "source": [
    "def make_system(params, data):\n",
    "    \"\"\"Makes a System object.\n",
    "    \n",
    "    params: sequence of alpha, dim, K\n",
    "    data: Series\n",
    "    \n",
    "    returns: System object\n",
    "    \"\"\"\n",
    "    alpha, dim, K = params\n",
    "    \n",
    "    t_0 = get_first_label(data)\n",
    "    t_end = get_last_label(data)\n",
    "\n",
    "    h_0 = get_first_value(data)\n",
    "\n",
    "    return System(alpha=alpha, dim=dim, K=K, \n",
    "                  h_0=h_0, t_0=t_0, t_end=t_end)"
   ]
  },
  {
   "cell_type": "markdown",
   "metadata": {},
   "source": [
    "Here's the new `System` object."
   ]
  },
  {
   "cell_type": "code",
   "execution_count": 28,
   "metadata": {},
   "outputs": [],
   "source": [
    "system = make_system(params, data)"
   ]
  },
  {
   "cell_type": "markdown",
   "metadata": {},
   "source": [
    "And here's the new update function."
   ]
  },
  {
   "cell_type": "code",
   "execution_count": 29,
   "metadata": {},
   "outputs": [],
   "source": [
    "def update3(height, t, system):\n",
    "    \"\"\"Update height based on geometric model with growth limiting term.\n",
    "    \n",
    "    height: current height in feet\n",
    "    t: what year it is\n",
    "    system: system object with model parameters\n",
    "    \"\"\"\n",
    "    area = height**2\n",
    "    mass = height**system.dim\n",
    "    mass += system.alpha * area * (1 - height/system.K)\n",
    "    return mass**(1/system.dim)"
   ]
  },
  {
   "cell_type": "markdown",
   "metadata": {},
   "source": [
    "As always, we'll test the update function with the initial conditions."
   ]
  },
  {
   "cell_type": "code",
   "execution_count": 30,
   "metadata": {},
   "outputs": [],
   "source": [
    "update3(h_0, t_0, system)"
   ]
  },
  {
   "cell_type": "markdown",
   "metadata": {},
   "source": [
    "Now we can test the error function with the new update function."
   ]
  },
  {
   "cell_type": "code",
   "execution_count": 31,
   "metadata": {},
   "outputs": [],
   "source": [
    "error_func(params, data, update3)"
   ]
  },
  {
   "cell_type": "markdown",
   "metadata": {},
   "source": [
    "And search for the best parameters."
   ]
  },
  {
   "cell_type": "code",
   "execution_count": 32,
   "metadata": {},
   "outputs": [],
   "source": [
    "best_params, details = fit_leastsq(error_func, params, data, update3)\n",
    "details"
   ]
  },
  {
   "cell_type": "markdown",
   "metadata": {},
   "source": [
    "With these parameters, we can fit the data much better."
   ]
  },
  {
   "cell_type": "code",
   "execution_count": 33,
   "metadata": {},
   "outputs": [],
   "source": [
    "system = make_system(best_params, data)\n",
    "results = run_simulation(system, update3)\n",
    "\n",
    "plot_results(results, data)"
   ]
  },
  {
   "cell_type": "markdown",
   "metadata": {},
   "source": [
    "And the mean absolute error is substantually smaller."
   ]
  },
  {
   "cell_type": "code",
   "execution_count": 34,
   "metadata": {},
   "outputs": [],
   "source": [
    "mean_abs_error(results, data)"
   ]
  },
  {
   "cell_type": "markdown",
   "metadata": {},
   "source": [
    "The estimated fractal dimension is about 2.6, which is plausible for a tree.\n",
    "\n",
    "Basically, it suggests that if you double the height of the tree, the mass grows by a factor of $2^{2.6}$"
   ]
  },
  {
   "cell_type": "code",
   "execution_count": 35,
   "metadata": {},
   "outputs": [],
   "source": [
    "2**2.6"
   ]
  },
  {
   "cell_type": "markdown",
   "metadata": {},
   "source": [
    "In other words, the mass of the tree scales faster than area, but not as fast as it would for a solid 3-D object.\n",
    "\n",
    "What is this model good for?\n",
    "\n",
    "1) It offers a possible explanation for the shape of tree growth curves.\n",
    "\n",
    "2) It provides a way to estimate the fractal dimension of a tree based on a growth curve (probably with different values for different species).\n",
    "\n",
    "3) It might provide a way to predict future growth of a tree, based on measurements of past growth.  As with the logistic population model, this would probably only work if we have observed the part of the curve where the growth rate starts to decline."
   ]
  },
  {
   "cell_type": "markdown",
   "metadata": {},
   "source": [
    "### Analysis\n",
    "\n",
    "With some help from my colleague, John Geddes, we can do some analysis.\n",
    "\n",
    "Starting with the difference equation in terms of mass:\n",
    " \n",
    "$m_{n+1} = m_n + \\alpha A (1 - h / K) $\n",
    "\n",
    "We can write the corresponding differential equation:\n",
    "\n",
    "(1) $ \\frac{dm}{dt} = \\alpha A (1 - h / K) $\n",
    "\n",
    "With\n",
    "\n",
    "(2) $A = h^2$\n",
    "\n",
    "and\n",
    "\n",
    "(3) $m = h^D$\n",
    "\n",
    "Taking the derivative of the last equation yields\n",
    "\n",
    "(4) $\\frac{dm}{dt} = D h^{D-1} \\frac{dh}{dt}$\n",
    "\n",
    "Combining (1), (2), and (4), we can write a differential equation for $h$:\n",
    "\n",
    "(5) $\\frac{dh}{dt} = \\frac{\\alpha}{D} h^{3-D} (1 - h/K)$\n",
    "\n",
    "Now let's consider two cases:\n",
    "\n",
    "* With infinite $K$, the factor $(1 - h/K)$ approaches 1, so we have Model 2.\n",
    "* With finite $K$, we have Model 3.\n",
    "\n",
    "#### Model 2\n",
    "\n",
    "Within Model 2, we'll consider two special cases, with $D=2$ and $D=3$.\n",
    "\n",
    "With $D=2$, we have\n",
    "\n",
    "$\\frac{dh}{dt} = \\frac{\\alpha}{2} h$\n",
    "\n",
    "which yields exponential growth with parameter $\\alpha/2$.\n",
    "\n",
    "With $D=3$, we have Model 1, with this equation:\n",
    "\n",
    "$\\frac{dh}{dt} = \\frac{\\alpha}{3}$\n",
    "\n",
    "which yields linear growth with parameter $\\alpha/3$.\n",
    "\n",
    "This result explains why Model 1 is linear.\n",
    "\n",
    "\n",
    "\n",
    "#### Model 3\n",
    "\n",
    "Within Model 3, we'll consider two special cases, with $D=2$ and $D=3$.\n",
    "\n",
    "With $D=2$, we have\n",
    "\n",
    "$\\frac{dh}{dt} = \\frac{\\alpha}{2} h (1 - h/K)$\n",
    "\n",
    "which yields logisitic growth with parameters $r = \\alpha/2$ and $K$.\n",
    "\n",
    "With $D=3$, we have\n",
    "\n",
    "$\\frac{dh}{dt} = \\frac{\\alpha}{3} (1 - h/K)$\n",
    "\n",
    "which yields a first order step response; that is, it converges to $K$ like a negative exponential:\n",
    "\n",
    "$ h(t) = c \\exp(-\\frac{\\alpha}{3K} t) + K $\n",
    "\n",
    "where $c$ is a constant that depends on the initial conditions."
   ]
  },
  {
   "cell_type": "code",
   "execution_count": 63,
   "metadata": {},
   "outputs": [],
   "source": [
    "alpha = 10\n",
    "D = 3\n",
    "K = 200\n",
    "params = alpha, D, K\n",
    "system = make_system(params, data)\n",
    "results = run_simulation(system, update3);"
   ]
  },
  {
   "cell_type": "code",
   "execution_count": 65,
   "metadata": {},
   "outputs": [],
   "source": [
    "t = results.index\n",
    "a = alpha/3\n",
    "h = (-220) * exp(-a * t / K) + K\n",
    "plot(t, h)\n",
    "plot(results)\n",
    "decorate(xlabel='Time (years)',\n",
    "         ylabel='Height (feet)')"
   ]
  },
  {
   "cell_type": "markdown",
   "metadata": {},
   "source": [
    "Additional resources:\n",
    "\n",
    "Garcia, [A stochastic differential equation model for the\n",
    "height growth of forest stands](http://citeseerx.ist.psu.edu/viewdoc/download;jsessionid=664FED1E46ABCBF6E16741C294B79976?doi=10.1.1.608.81&rep=rep1&type=pdf)\n",
    "\n",
    "[EasySDE software and data](http://forestgrowth.unbc.ca/)"
   ]
  },
  {
   "cell_type": "code",
   "execution_count": null,
   "metadata": {},
   "outputs": [],
   "source": []
  }
 ],
 "metadata": {
  "kernelspec": {
   "display_name": "Python 3",
   "language": "python",
   "name": "python3"
  },
  "language_info": {
   "codemirror_mode": {
    "name": "ipython",
    "version": 3
   },
   "file_extension": ".py",
   "mimetype": "text/x-python",
   "name": "python",
   "nbconvert_exporter": "python",
   "pygments_lexer": "ipython3",
   "version": "3.6.6"
  }
 },
 "nbformat": 4,
 "nbformat_minor": 2
}
