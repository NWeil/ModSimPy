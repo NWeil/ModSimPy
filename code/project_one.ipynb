{
 "cells": [
  {
   "cell_type": "markdown",
   "metadata": {},
   "source": [
    "# What would today's Asian American population be if Japanese Americans were deported rather than interned in 1942?\n",
    "\n",
    "Colin Takeda and Nathan Weil\n",
    "ModSim Project 1\n"
   ]
  },
  {
   "cell_type": "code",
   "execution_count": 1,
   "metadata": {},
   "outputs": [],
   "source": [
    "# Configure Jupyter so figures appear in the notebook\n",
    "%matplotlib inline\n",
    "\n",
    "# Configure Jupyter to display the assigned value after an assignment\n",
    "%config InteractiveShell.ast_node_interactivity='last_expr_or_assign'\n",
    "\n",
    "# import functions from the modsim library\n",
    "from modsim import *\n",
    "\n",
    "from pandas import read_html\n",
    "\n",
    "import csv"
   ]
  },
  {
   "cell_type": "markdown",
   "metadata": {},
   "source": [
    "## Question"
   ]
  },
  {
   "cell_type": "markdown",
   "metadata": {},
   "source": [
    "What would today's Asian American population be if Japanese Americans were deported rather than interned in 1942?\n",
    "\n",
    "What would be today's percent population of Asian Americans be if all other races increased naturally as well?"
   ]
  },
  {
   "cell_type": "markdown",
   "metadata": {},
   "source": [
    "## Model"
   ]
  },
  {
   "cell_type": "markdown",
   "metadata": {},
   "source": [
    "Inputs: \n",
    "- Asian American population in 1942 - total number of Japanese Americans interned\n",
    "- Populations of other races in 1942\n",
    "\n",
    "Data: \n",
    "- Populations of other races over time\n",
    "\n",
    "Actions: \n",
    "- Simulate change in population over time per race and plot\n",
    "\n",
    "Metrics: \n",
    "- Growth over time of each subset of population \n",
    "- Percent change for Asian Americans over time"
   ]
  },
  {
   "cell_type": "code",
   "execution_count": 204,
   "metadata": {},
   "outputs": [
    {
     "name": "stdout",
     "output_type": "stream",
     "text": [
      "            pop\n",
      "time           \n",
      "1940   0.254918\n",
      "1950   0.321033\n",
      "1960   0.980337\n",
      "1970   1.526401\n",
      "1980   3.500439\n",
      "1990   7.273662\n",
      "2000  10.641833\n",
      "2010  15.214265\n",
      "Series([], dtype: float64)\n"
     ]
    }
   ],
   "source": [
    "'''This section is for Data input'''\n",
    "\n",
    "data = pd.read_csv('data/api_simple.csv', index_col='time')\n",
    "\n",
    "'''\n",
    "# Dates for historical data\n",
    "data_time = [1940, 1950, 1960, 1970, 1980, 1990, 2000, 2010]\n",
    "\n",
    "# Population Data\n",
    "api = [254918, 321033, 980337, 1526401, 3500439, 7273662, 10641833, 15214265]\n",
    "\n",
    "for i in range(0, 8):\n",
    "    data[data_time[i]] = api[i]\n",
    "\n",
    "'''\n",
    "\n",
    "data = data/(1e6)\n",
    "\n",
    "print(data)\n",
    "\n",
    "time = TimeSeries()\n",
    "\n"
   ]
  },
  {
   "cell_type": "code",
   "execution_count": 3,
   "metadata": {},
   "outputs": [],
   "source": [
    "def plot_results(data, results, title):\n",
    "    \n",
    "    plot(data, '-', label='API Population')\n",
    "    plot(results, '-', label='Model API Population')\n",
    "\n",
    "    decorate(xlabel='Year', \n",
    "             ylabel='Population (millions)',\n",
    "             title=title)"
   ]
  },
  {
   "cell_type": "code",
   "execution_count": 4,
   "metadata": {},
   "outputs": [
    {
     "data": {
      "image/png": "[encoded data removed]",
      "text/plain": [
       "<Figure size 432x288 with 1 Axes>"
      ]
     },
     "metadata": {
      "needs_background": "light"
     },
     "output_type": "display_data"
    }
   ],
   "source": [
    "empty = TimeSeries()\n",
    "plot_results(data, empty, 'Historic Asian and Pacific Islander Population in USA')"
   ]
  },
  {
   "cell_type": "code",
   "execution_count": 187,
   "metadata": {},
   "outputs": [
    {
     "data": {
      "text/html": [
       "<div>\n",
       "<style scoped>\n",
       "    .dataframe tbody tr th:only-of-type {\n",
       "        vertical-align: middle;\n",
       "    }\n",
       "\n",
       "    .dataframe tbody tr th {\n",
       "        vertical-align: top;\n",
       "    }\n",
       "\n",
       "    .dataframe thead th {\n",
       "        text-align: right;\n",
       "    }\n",
       "</style>\n",
       "<table border=\"1\" class=\"dataframe\">\n",
       "  <thead>\n",
       "    <tr style=\"text-align: right;\">\n",
       "      <th></th>\n",
       "      <th>values</th>\n",
       "    </tr>\n",
       "  </thead>\n",
       "  <tbody>\n",
       "    <tr>\n",
       "      <th>alpha</th>\n",
       "      <td>0.0747</td>\n",
       "    </tr>\n",
       "    <tr>\n",
       "      <th>beta</th>\n",
       "      <td>-0.0032</td>\n",
       "    </tr>\n",
       "    <tr>\n",
       "      <th>p_0</th>\n",
       "      <td>0.1300</td>\n",
       "    </tr>\n",
       "    <tr>\n",
       "      <th>t_0</th>\n",
       "      <td>1940.0000</td>\n",
       "    </tr>\n",
       "    <tr>\n",
       "      <th>t_end</th>\n",
       "      <td>2010.0000</td>\n",
       "    </tr>\n",
       "  </tbody>\n",
       "</table>\n",
       "</div>"
      ],
      "text/plain": [
       "alpha       0.0747\n",
       "beta       -0.0032\n",
       "p_0         0.1300\n",
       "t_0      1940.0000\n",
       "t_end    2010.0000\n",
       "dtype: float64"
      ]
     },
     "execution_count": 187,
     "metadata": {},
     "output_type": "execute_result"
    }
   ],
   "source": [
    "system = System (alpha = 0.0747, beta = -.0032\n",
    "                 , p_0 = 0.13, t_0 = 1940, t_end = 2010)"
   ]
  },
  {
   "cell_type": "code",
   "execution_count": 190,
   "metadata": {},
   "outputs": [
    {
     "name": "stdout",
     "output_type": "stream",
     "text": [
      "15.214265\n",
      "11.105347852310459\n"
     ]
    },
    {
     "data": {
      "image/png": "[encoded data removed]",
      "text/plain": [
       "<Figure size 432x288 with 1 Axes>"
      ]
     },
     "metadata": {
      "needs_background": "light"
     },
     "output_type": "display_data"
    }
   ],
   "source": [
    "def run_simulation (update_func, system):\n",
    "    results = TimeSeries()\n",
    "    results[system.t_0] = system.p_0\n",
    "    \n",
    "    for t in linrange (system.t_0, system.t_end):\n",
    "        \n",
    "        results[t+1] = update_func(results[t], system)\n",
    "        # print(results[t+1])\n",
    "    return results\n",
    "\n",
    "def update_func(pop, system):\n",
    "    \n",
    "    net_growth = system.alpha * pop + system.beta * pop**2\n",
    "    population = pop + net_growth\n",
    "    \n",
    "    return population\n",
    "\n",
    "results = run_simulation(update_func, system)\n",
    "plot_results(data, results, \"title\")\n",
    "\n",
    "print(data[2010])\n",
    "print(results[2010])"
   ]
  },
  {
   "cell_type": "markdown",
   "metadata": {},
   "source": [
    "## Results"
   ]
  },
  {
   "cell_type": "markdown",
   "metadata": {},
   "source": [
    "We expect a much smaller Asian American percentage of the population over time if the interned Japanese Americans had ben deported. This data can be verified by projecting it to the 2010 census data. "
   ]
  },
  {
   "cell_type": "markdown",
   "metadata": {},
   "source": [
    "## Interpretation "
   ]
  },
  {
   "cell_type": "markdown",
   "metadata": {},
   "source": [
    "plot(results)"
   ]
  }
 ],
 "metadata": {
  "kernelspec": {
   "display_name": "Python 3",
   "language": "python",
   "name": "python3"
  },
  "language_info": {
   "codemirror_mode": {
    "name": "ipython",
    "version": 3
   },
   "file_extension": ".py",
   "mimetype": "text/x-python",
   "name": "python",
   "nbconvert_exporter": "python",
   "pygments_lexer": "ipython3",
   "version": "3.6.6"
  }
 },
 "nbformat": 4,
 "nbformat_minor": 2
}
