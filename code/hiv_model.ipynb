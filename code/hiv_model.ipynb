{
 "cells": [
  {
   "cell_type": "markdown",
   "metadata": {},
   "source": [
    "## Model of HIV Concentration\n",
    "\n",
    "Implimentation of HIV minimal model using Euler's Method"
   ]
  },
  {
   "cell_type": "code",
   "execution_count": 1,
   "metadata": {},
   "outputs": [],
   "source": [
    "# Configure Jupyter so figures appear in the notebook\n",
    "%matplotlib inline\n",
    "\n",
    "# Configure Jupyter to display the assigned value after an assignment\n",
    "%config InteractiveShell.ast_node_interactivity='last_expr_or_assign'\n",
    "\n",
    "# import functions from the modsim.py module\n",
    "from modsim import *"
   ]
  },
  {
   "cell_type": "code",
   "execution_count": 2,
   "metadata": {},
   "outputs": [],
   "source": [
    "def update_func(state, system):\n",
    "    \"\"\"Calculate and update state\n",
    "    \n",
    "    state: State(R, L, E, V)\n",
    "    system: System object\n",
    "    \n",
    "    returns: State(R, L, E, V)\n",
    "    \"\"\"\n",
    "    \n",
    "    unpack(system)\n",
    "    R, L, E, V = state\n",
    "    \n",
    "    # Calculates change in R\n",
    "    dR = ((gamma*tau) - (mu*R) - (beta*R*V)) * dt\n",
    "\n",
    "    # Calculates change in L\n",
    "    dL = ((rho*beta*R*V) - (mu*L) - (alpha*L)) * dt\n",
    "    \n",
    "    # Calculates change in E\n",
    "    dE = (((1-rho)*beta*R*V) + (alpha*L) - (delta*E)) * dt\n",
    "    \n",
    "    # Calculates change in V\n",
    "    dV = ((pi*E) - (sigma*V)) * dt\n",
    "    \n",
    "    # Updates values by adding calculated change to previous value\n",
    "    R1 = R + dR\n",
    "    L1 = L + dL\n",
    "    E1 = E + dE\n",
    "    V1 = V + dV\n",
    "    \n",
    "    return State(R=R1, L=L1, E=E1, V=V1)"
   ]
  },
  {
   "cell_type": "code",
   "execution_count": 3,
   "metadata": {},
   "outputs": [],
   "source": [
    "def run_simulation(state, system):\n",
    "    \"\"\"Runs a simulation of the system \n",
    "    \n",
    "    state: initial State(R, L, E, V)\n",
    "    system: System object \n",
    "    \n",
    "    returns: TimeFrame\n",
    "    \"\"\"\n",
    "        \n",
    "        \n",
    "    frame = TimeFrame(columns=state.index)\n",
    "    frame.row[0] = state\n",
    "    \n",
    "    for i in range(int(t0), int(tend)):\n",
    "        frame.row[i+1] = update_func(frame.row[i], system)\n",
    "        \n",
    "    return frame"
   ]
  },
  {
   "cell_type": "code",
   "execution_count": 4,
   "metadata": {},
   "outputs": [],
   "source": [
    "def plot_results(results):\n",
    "    \"\"\"Plots results\n",
    "    \n",
    "    results: TimeFrame from run_simulation\n",
    "    \"\"\"\n",
    "    unpack(results)\n",
    "    plot(R, label='R')\n",
    "    plot(L, label='L')\n",
    "    plot(E, label='E')\n",
    "    decorate(xlabel='Time (centidays)',\n",
    "             ylabel='Population',\n",
    "             title='R, L, E Populations vs Time')\n",
    "    "
   ]
  },
  {
   "cell_type": "code",
   "execution_count": 5,
   "metadata": {},
   "outputs": [
    {
     "data": {
      "text/html": [
       "<div>\n",
       "<style scoped>\n",
       "    .dataframe tbody tr th:only-of-type {\n",
       "        vertical-align: middle;\n",
       "    }\n",
       "\n",
       "    .dataframe tbody tr th {\n",
       "        vertical-align: top;\n",
       "    }\n",
       "\n",
       "    .dataframe thead th {\n",
       "        text-align: right;\n",
       "    }\n",
       "</style>\n",
       "<table border=\"1\" class=\"dataframe\">\n",
       "  <thead>\n",
       "    <tr style=\"text-align: right;\">\n",
       "      <th></th>\n",
       "      <th>values</th>\n",
       "    </tr>\n",
       "  </thead>\n",
       "  <tbody>\n",
       "    <tr>\n",
       "      <th>gamma</th>\n",
       "      <td>1.36000</td>\n",
       "    </tr>\n",
       "    <tr>\n",
       "      <th>mu</th>\n",
       "      <td>0.00136</td>\n",
       "    </tr>\n",
       "    <tr>\n",
       "      <th>tau</th>\n",
       "      <td>0.20000</td>\n",
       "    </tr>\n",
       "    <tr>\n",
       "      <th>beta</th>\n",
       "      <td>0.00027</td>\n",
       "    </tr>\n",
       "    <tr>\n",
       "      <th>rho</th>\n",
       "      <td>0.10000</td>\n",
       "    </tr>\n",
       "    <tr>\n",
       "      <th>alpha</th>\n",
       "      <td>0.03600</td>\n",
       "    </tr>\n",
       "    <tr>\n",
       "      <th>sigma</th>\n",
       "      <td>2.00000</td>\n",
       "    </tr>\n",
       "    <tr>\n",
       "      <th>delta</th>\n",
       "      <td>0.33000</td>\n",
       "    </tr>\n",
       "    <tr>\n",
       "      <th>pi</th>\n",
       "      <td>100.00000</td>\n",
       "    </tr>\n",
       "    <tr>\n",
       "      <th>dt</th>\n",
       "      <td>0.01000</td>\n",
       "    </tr>\n",
       "    <tr>\n",
       "      <th>t0</th>\n",
       "      <td>0.00000</td>\n",
       "    </tr>\n",
       "    <tr>\n",
       "      <th>tend</th>\n",
       "      <td>1000.00000</td>\n",
       "    </tr>\n",
       "  </tbody>\n",
       "</table>\n",
       "</div>"
      ],
      "text/plain": [
       "gamma       1.36000\n",
       "mu          0.00136\n",
       "tau         0.20000\n",
       "beta        0.00027\n",
       "rho         0.10000\n",
       "alpha       0.03600\n",
       "sigma       2.00000\n",
       "delta       0.33000\n",
       "pi        100.00000\n",
       "dt          0.01000\n",
       "t0          0.00000\n",
       "tend     1000.00000\n",
       "dtype: float64"
      ]
     },
     "execution_count": 5,
     "metadata": {},
     "output_type": "execute_result"
    }
   ],
   "source": [
    "# Sets initial conditions\n",
    "state = State(R = 200,\n",
    "              L = 0,\n",
    "              E = 0,\n",
    "              V = 100)\n",
    "\n",
    "# Sets system parameters\n",
    "system = System(gamma = 1.36,\n",
    "                mu = 0.00136,\n",
    "                tau = 0.2,\n",
    "                beta = 0.00027,\n",
    "                rho = 0.1,\n",
    "                alpha = 0.036,\n",
    "                sigma = 2,\n",
    "                delta = 0.33,\n",
    "                pi = 100,\n",
    "                dt = .01,\n",
    "                t0 = 0,\n",
    "                tend = 1000)"
   ]
  },
  {
   "cell_type": "code",
   "execution_count": 8,
   "metadata": {},
   "outputs": [
    {
     "data": {
      "text/html": [
       "<div>\n",
       "<style scoped>\n",
       "    .dataframe tbody tr th:only-of-type {\n",
       "        vertical-align: middle;\n",
       "    }\n",
       "\n",
       "    .dataframe tbody tr th {\n",
       "        vertical-align: top;\n",
       "    }\n",
       "\n",
       "    .dataframe thead th {\n",
       "        text-align: right;\n",
       "    }\n",
       "</style>\n",
       "<table border=\"1\" class=\"dataframe\">\n",
       "  <thead>\n",
       "    <tr style=\"text-align: right;\">\n",
       "      <th></th>\n",
       "      <th>values</th>\n",
       "    </tr>\n",
       "  </thead>\n",
       "  <tbody>\n",
       "    <tr>\n",
       "      <th>R</th>\n",
       "      <td>199.9460</td>\n",
       "    </tr>\n",
       "    <tr>\n",
       "      <th>L</th>\n",
       "      <td>0.0054</td>\n",
       "    </tr>\n",
       "    <tr>\n",
       "      <th>E</th>\n",
       "      <td>0.0486</td>\n",
       "    </tr>\n",
       "    <tr>\n",
       "      <th>V</th>\n",
       "      <td>98.0000</td>\n",
       "    </tr>\n",
       "  </tbody>\n",
       "</table>\n",
       "</div>"
      ],
      "text/plain": [
       "R    199.9460\n",
       "L      0.0054\n",
       "E      0.0486\n",
       "V     98.0000\n",
       "dtype: float64"
      ]
     },
     "execution_count": 8,
     "metadata": {},
     "output_type": "execute_result"
    }
   ],
   "source": [
    "# Initialize TimeFrame and update_func\n",
    "frame = TimeFrame(index = range(int(system.t0), int(system.tend)), columns=state.index)\n",
    "init = update_func(state, system)"
   ]
  },
  {
   "cell_type": "code",
   "execution_count": 9,
   "metadata": {
    "scrolled": true
   },
   "outputs": [
    {
     "data": {
      "image/png": "[encoded data removed]",
      "text/plain": [
       "<Figure size 432x288 with 1 Axes>"
      ]
     },
     "metadata": {
      "needs_background": "light"
     },
     "output_type": "display_data"
    }
   ],
   "source": [
    "results = run_simulation(state, system)\n",
    "plot_results(results)"
   ]
  },
  {
   "cell_type": "code",
   "execution_count": null,
   "metadata": {},
   "outputs": [],
   "source": []
  }
 ],
 "metadata": {
  "kernelspec": {
   "display_name": "Python 3",
   "language": "python",
   "name": "python3"
  },
  "language_info": {
   "codemirror_mode": {
    "name": "ipython",
    "version": 3
   },
   "file_extension": ".py",
   "mimetype": "text/x-python",
   "name": "python",
   "nbconvert_exporter": "python",
   "pygments_lexer": "ipython3",
   "version": "3.6.6"
  }
 },
 "nbformat": 4,
 "nbformat_minor": 2
}
